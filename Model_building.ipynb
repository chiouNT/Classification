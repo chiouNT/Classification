{
 "cells": [
  {
   "cell_type": "code",
   "execution_count": 1,
   "id": "ca189447",
   "metadata": {},
   "outputs": [
    {
     "name": "stderr",
     "output_type": "stream",
     "text": [
      "/opt/anaconda3/lib/python3.8/site-packages/xgboost/compat.py:36: FutureWarning: pandas.Int64Index is deprecated and will be removed from pandas in a future version. Use pandas.Index with the appropriate dtype instead.\n",
      "  from pandas import MultiIndex, Int64Index\n"
     ]
    }
   ],
   "source": [
    "import pandas as pd\n",
    "import seaborn as sns\n",
    "import re\n",
    "import numpy as np\n",
    "\n",
    "from sklearn.model_selection import train_test_split\n",
    "\n",
    "\n",
    "from sklearn.neighbors import KNeighborsClassifier\n",
    "from sklearn.linear_model import LogisticRegression\n",
    "from sklearn.ensemble import RandomForestClassifier, ExtraTreesClassifier, VotingClassifier\n",
    "import xgboost as xgb\n",
    "from sklearn.model_selection import GridSearchCV, RandomizedSearchCV\n",
    "\n",
    "from sklearn.metrics import precision_score, recall_score, precision_recall_curve, f1_score, roc_curve, roc_auc_score, confusion_matrix\n",
    "\n",
    "import pickle\n",
    "\n"
   ]
  },
  {
   "cell_type": "code",
   "execution_count": 2,
   "id": "0e22bd8a",
   "metadata": {},
   "outputs": [],
   "source": [
    "df = pd.read_csv(\"genetic_EDA.csv\")\n",
    "df = df.drop([\"Unnamed: 0\"], axis = 1)"
   ]
  },
  {
   "cell_type": "code",
   "execution_count": 3,
   "id": "941b4f30",
   "metadata": {},
   "outputs": [
    {
     "name": "stdout",
     "output_type": "stream",
     "text": [
      "<class 'pandas.core.frame.DataFrame'>\n",
      "RangeIndex: 59392 entries, 0 to 59391\n",
      "Data columns (total 19 columns):\n",
      " #   Column                   Non-Null Count  Dtype  \n",
      "---  ------                   --------------  -----  \n",
      " 0   CHROM                    59392 non-null  object \n",
      " 1   AF_ESP                   59392 non-null  float64\n",
      " 2   CLNVC                    59392 non-null  object \n",
      " 3   CLASS                    59392 non-null  int64  \n",
      " 4   IMPACT                   59392 non-null  object \n",
      " 5   SYMBOL                   59392 non-null  object \n",
      " 6   LoFtool                  59392 non-null  float64\n",
      " 7   CADD_PHRED               59392 non-null  float64\n",
      " 8   2KB_upstream_variant     59392 non-null  float64\n",
      " 9   3_prime_UTR_variant      59392 non-null  float64\n",
      " 10  500B_downstream_variant  59392 non-null  float64\n",
      " 11  5_prime_UTR_variant      59392 non-null  float64\n",
      " 12  frameshift_variant       59392 non-null  float64\n",
      " 13  intron_variant           59392 non-null  float64\n",
      " 14  missense_variant         59392 non-null  float64\n",
      " 15  nonsense                 59392 non-null  float64\n",
      " 16  splice_acceptor_variant  59392 non-null  float64\n",
      " 17  splice_donor_variant     59392 non-null  float64\n",
      " 18  synonymous_variant       59392 non-null  float64\n",
      "dtypes: float64(14), int64(1), object(4)\n",
      "memory usage: 8.6+ MB\n"
     ]
    }
   ],
   "source": [
    "df.info()"
   ]
  },
  {
   "cell_type": "code",
   "execution_count": 4,
   "id": "16a38708",
   "metadata": {},
   "outputs": [
    {
     "data": {
      "text/plain": [
       "0        other_chrom\n",
       "1        other_chrom\n",
       "2        other_chrom\n",
       "3        other_chrom\n",
       "4        other_chrom\n",
       "            ...     \n",
       "59387    other_chrom\n",
       "59388    other_chrom\n",
       "59389    other_chrom\n",
       "59390    other_chrom\n",
       "59391    other_chrom\n",
       "Name: CHROM, Length: 59392, dtype: object"
      ]
     },
     "execution_count": 4,
     "metadata": {},
     "output_type": "execute_result"
    }
   ],
   "source": [
    "df.CHROM"
   ]
  },
  {
   "cell_type": "code",
   "execution_count": 5,
   "id": "1b5fd05e",
   "metadata": {},
   "outputs": [],
   "source": [
    "df_dummies_chrom = pd.get_dummies(df['CHROM'],drop_first=True)\n",
    "df_dummies_clnvc = pd.get_dummies(df['CLNVC'],drop_first=True)\n",
    "df_dummies_impact = pd.get_dummies(df['IMPACT'],drop_first=True)\n",
    "df_dummies_symbol = pd.get_dummies(df['SYMBOL'],drop_first=True)\n",
    "df_temp = df.drop([\"CHROM\", \"CLNVC\", \"IMPACT\", \"SYMBOL\"], axis =1 )"
   ]
  },
  {
   "cell_type": "code",
   "execution_count": 6,
   "id": "1b691009",
   "metadata": {},
   "outputs": [],
   "source": [
    "df_all = pd.concat([df_temp, df_dummies_chrom, df_dummies_clnvc, df_dummies_impact, df_dummies_symbol], axis = 1)"
   ]
  },
  {
   "cell_type": "code",
   "execution_count": 7,
   "id": "361ff694",
   "metadata": {},
   "outputs": [
    {
     "data": {
      "text/plain": [
       "Index(['AF_ESP', 'CLASS', 'LoFtool', 'CADD_PHRED', '2KB_upstream_variant',\n",
       "       '3_prime_UTR_variant', '500B_downstream_variant', '5_prime_UTR_variant',\n",
       "       'frameshift_variant', 'intron_variant', 'missense_variant', 'nonsense',\n",
       "       'splice_acceptor_variant', 'splice_donor_variant', 'synonymous_variant',\n",
       "       'other_chrom', 'Duplication', 'Indel', 'Insertion', 'Inversion',\n",
       "       'Microsatellite', 'single_nucleotide_variant', 'LOW', 'MODERATE',\n",
       "       'MODIFIER', 'ATM', 'BARD1', 'BRCA1', 'BRCA2', 'BRIP1', 'CDH1', 'CHEK2',\n",
       "       'DICER1', 'DMD', 'FBN1', 'LDLR', 'MLH1', 'MSH2', 'MSH6', 'MUTYH',\n",
       "       'MYBPC3', 'MYH7', 'NBN', 'NEB', 'NF1', 'PALB2', 'PLEC', 'PMS2', 'POLD1',\n",
       "       'POLE', 'RAD50', 'RYR1', 'RYR2', 'SCN5A', 'SMARCA4', 'STK11', 'SYNE1',\n",
       "       'TP53', 'TSC2', 'TTN', 'other-gene'],\n",
       "      dtype='object')"
      ]
     },
     "execution_count": 7,
     "metadata": {},
     "output_type": "execute_result"
    }
   ],
   "source": [
    "df_all.columns"
   ]
  },
  {
   "cell_type": "code",
   "execution_count": null,
   "id": "4eb14a28",
   "metadata": {},
   "outputs": [],
   "source": []
  },
  {
   "cell_type": "code",
   "execution_count": 8,
   "id": "5dd1687f",
   "metadata": {},
   "outputs": [],
   "source": [
    "from sklearn.preprocessing import StandardScaler\n",
    "std = StandardScaler()\n",
    "df_all_X = df_all.drop([\"CLASS\"], axis =1)\n",
    "std.fit(df_all_X.values)\n",
    "df_all_X_std = std.transform(df_all_X.values)\n",
    "\n",
    "df_all_X_std = pd.DataFrame(df_all_X_std)\n",
    "\n",
    "df_all = pd.concat([df_all_X_std, df_all.CLASS], axis = 1)\n",
    "\n",
    "df_all.columns =['AF_ESP', 'LoFtool', 'CADD_PHRED', '2KB_upstream_variant',\n",
    "       '3_prime_UTR_variant', '500B_downstream_variant', '5_prime_UTR_variant',\n",
    "       'frameshift_variant', 'intron_variant', 'missense_variant', 'nonsense',\n",
    "       'splice_acceptor_variant', 'splice_donor_variant', 'synonymous_variant',\n",
    "       'other_chrom', 'Duplication', 'Indel', 'Insertion', 'Inversion',\n",
    "       'Microsatellite', 'single_nucleotide_variant', 'LOW', 'MODERATE',\n",
    "       'MODIFIER', 'ATM', 'BARD1', 'BRCA1', 'BRCA2', 'BRIP1', 'CDH1', 'CHEK2',\n",
    "       'DICER1', 'DMD', 'FBN1', 'LDLR', 'MLH1', 'MSH2', 'MSH6', 'MUTYH',\n",
    "       'MYBPC3', 'MYH7', 'NBN', 'NEB', 'NF1', 'PALB2', 'PLEC', 'PMS2', 'POLD1',\n",
    "       'POLE', 'RAD50', 'RYR1', 'RYR2', 'SCN5A', 'SMARCA4', 'STK11', 'SYNE1',\n",
    "       'TP53', 'TSC2', 'TTN', 'other-gene', 'CLASS']"
   ]
  },
  {
   "cell_type": "code",
   "execution_count": 9,
   "id": "fbd16b5b",
   "metadata": {},
   "outputs": [
    {
     "data": {
      "text/html": [
       "<div>\n",
       "<style scoped>\n",
       "    .dataframe tbody tr th:only-of-type {\n",
       "        vertical-align: middle;\n",
       "    }\n",
       "\n",
       "    .dataframe tbody tr th {\n",
       "        vertical-align: top;\n",
       "    }\n",
       "\n",
       "    .dataframe thead th {\n",
       "        text-align: right;\n",
       "    }\n",
       "</style>\n",
       "<table border=\"1\" class=\"dataframe\">\n",
       "  <thead>\n",
       "    <tr style=\"text-align: right;\">\n",
       "      <th></th>\n",
       "      <th>AF_ESP</th>\n",
       "      <th>LoFtool</th>\n",
       "      <th>CADD_PHRED</th>\n",
       "      <th>2KB_upstream_variant</th>\n",
       "      <th>3_prime_UTR_variant</th>\n",
       "      <th>500B_downstream_variant</th>\n",
       "      <th>5_prime_UTR_variant</th>\n",
       "      <th>frameshift_variant</th>\n",
       "      <th>intron_variant</th>\n",
       "      <th>missense_variant</th>\n",
       "      <th>...</th>\n",
       "      <th>RYR2</th>\n",
       "      <th>SCN5A</th>\n",
       "      <th>SMARCA4</th>\n",
       "      <th>STK11</th>\n",
       "      <th>SYNE1</th>\n",
       "      <th>TP53</th>\n",
       "      <th>TSC2</th>\n",
       "      <th>TTN</th>\n",
       "      <th>other-gene</th>\n",
       "      <th>CLASS</th>\n",
       "    </tr>\n",
       "  </thead>\n",
       "  <tbody>\n",
       "    <tr>\n",
       "      <th>0</th>\n",
       "      <td>-0.252343</td>\n",
       "      <td>-0.676789</td>\n",
       "      <td>-1.437014</td>\n",
       "      <td>-0.086095</td>\n",
       "      <td>-0.110231</td>\n",
       "      <td>-0.023933</td>\n",
       "      <td>-0.186966</td>\n",
       "      <td>-0.139141</td>\n",
       "      <td>-0.492506</td>\n",
       "      <td>0.965831</td>\n",
       "      <td>...</td>\n",
       "      <td>-0.073369</td>\n",
       "      <td>-0.070893</td>\n",
       "      <td>-0.086492</td>\n",
       "      <td>-0.076438</td>\n",
       "      <td>-0.084392</td>\n",
       "      <td>-0.083477</td>\n",
       "      <td>-0.103211</td>\n",
       "      <td>-0.218783</td>\n",
       "      <td>0.796767</td>\n",
       "      <td>0</td>\n",
       "    </tr>\n",
       "    <tr>\n",
       "      <th>1</th>\n",
       "      <td>2.364400</td>\n",
       "      <td>-0.676789</td>\n",
       "      <td>0.662147</td>\n",
       "      <td>-0.086095</td>\n",
       "      <td>-0.110231</td>\n",
       "      <td>-0.023933</td>\n",
       "      <td>-0.186966</td>\n",
       "      <td>-0.139141</td>\n",
       "      <td>-0.492506</td>\n",
       "      <td>0.965831</td>\n",
       "      <td>...</td>\n",
       "      <td>-0.073369</td>\n",
       "      <td>-0.070893</td>\n",
       "      <td>-0.086492</td>\n",
       "      <td>-0.076438</td>\n",
       "      <td>-0.084392</td>\n",
       "      <td>-0.083477</td>\n",
       "      <td>-0.103211</td>\n",
       "      <td>-0.218783</td>\n",
       "      <td>0.796767</td>\n",
       "      <td>0</td>\n",
       "    </tr>\n",
       "    <tr>\n",
       "      <th>2</th>\n",
       "      <td>-0.252343</td>\n",
       "      <td>-0.676789</td>\n",
       "      <td>-0.408216</td>\n",
       "      <td>-0.086095</td>\n",
       "      <td>-0.110231</td>\n",
       "      <td>-0.023933</td>\n",
       "      <td>-0.186966</td>\n",
       "      <td>-0.139141</td>\n",
       "      <td>-0.492506</td>\n",
       "      <td>0.965831</td>\n",
       "      <td>...</td>\n",
       "      <td>-0.073369</td>\n",
       "      <td>-0.070893</td>\n",
       "      <td>-0.086492</td>\n",
       "      <td>-0.076438</td>\n",
       "      <td>-0.084392</td>\n",
       "      <td>-0.083477</td>\n",
       "      <td>-0.103211</td>\n",
       "      <td>-0.218783</td>\n",
       "      <td>0.796767</td>\n",
       "      <td>1</td>\n",
       "    </tr>\n",
       "    <tr>\n",
       "      <th>3</th>\n",
       "      <td>-0.175026</td>\n",
       "      <td>-0.898177</td>\n",
       "      <td>0.579387</td>\n",
       "      <td>-0.086095</td>\n",
       "      <td>-0.110231</td>\n",
       "      <td>-0.023933</td>\n",
       "      <td>-0.186966</td>\n",
       "      <td>-0.139141</td>\n",
       "      <td>-0.492506</td>\n",
       "      <td>0.965831</td>\n",
       "      <td>...</td>\n",
       "      <td>-0.073369</td>\n",
       "      <td>-0.070893</td>\n",
       "      <td>-0.086492</td>\n",
       "      <td>-0.076438</td>\n",
       "      <td>-0.084392</td>\n",
       "      <td>-0.083477</td>\n",
       "      <td>-0.103211</td>\n",
       "      <td>-0.218783</td>\n",
       "      <td>0.796767</td>\n",
       "      <td>0</td>\n",
       "    </tr>\n",
       "    <tr>\n",
       "      <th>4</th>\n",
       "      <td>-0.219698</td>\n",
       "      <td>-0.898177</td>\n",
       "      <td>0.947209</td>\n",
       "      <td>-0.086095</td>\n",
       "      <td>-0.110231</td>\n",
       "      <td>-0.023933</td>\n",
       "      <td>-0.186966</td>\n",
       "      <td>-0.139141</td>\n",
       "      <td>-0.492506</td>\n",
       "      <td>0.965831</td>\n",
       "      <td>...</td>\n",
       "      <td>-0.073369</td>\n",
       "      <td>-0.070893</td>\n",
       "      <td>-0.086492</td>\n",
       "      <td>-0.076438</td>\n",
       "      <td>-0.084392</td>\n",
       "      <td>-0.083477</td>\n",
       "      <td>-0.103211</td>\n",
       "      <td>-0.218783</td>\n",
       "      <td>0.796767</td>\n",
       "      <td>1</td>\n",
       "    </tr>\n",
       "  </tbody>\n",
       "</table>\n",
       "<p>5 rows × 61 columns</p>\n",
       "</div>"
      ],
      "text/plain": [
       "     AF_ESP   LoFtool  CADD_PHRED  2KB_upstream_variant  3_prime_UTR_variant  \\\n",
       "0 -0.252343 -0.676789   -1.437014             -0.086095            -0.110231   \n",
       "1  2.364400 -0.676789    0.662147             -0.086095            -0.110231   \n",
       "2 -0.252343 -0.676789   -0.408216             -0.086095            -0.110231   \n",
       "3 -0.175026 -0.898177    0.579387             -0.086095            -0.110231   \n",
       "4 -0.219698 -0.898177    0.947209             -0.086095            -0.110231   \n",
       "\n",
       "   500B_downstream_variant  5_prime_UTR_variant  frameshift_variant  \\\n",
       "0                -0.023933            -0.186966           -0.139141   \n",
       "1                -0.023933            -0.186966           -0.139141   \n",
       "2                -0.023933            -0.186966           -0.139141   \n",
       "3                -0.023933            -0.186966           -0.139141   \n",
       "4                -0.023933            -0.186966           -0.139141   \n",
       "\n",
       "   intron_variant  missense_variant  ...      RYR2     SCN5A   SMARCA4  \\\n",
       "0       -0.492506          0.965831  ... -0.073369 -0.070893 -0.086492   \n",
       "1       -0.492506          0.965831  ... -0.073369 -0.070893 -0.086492   \n",
       "2       -0.492506          0.965831  ... -0.073369 -0.070893 -0.086492   \n",
       "3       -0.492506          0.965831  ... -0.073369 -0.070893 -0.086492   \n",
       "4       -0.492506          0.965831  ... -0.073369 -0.070893 -0.086492   \n",
       "\n",
       "      STK11     SYNE1      TP53      TSC2       TTN  other-gene  CLASS  \n",
       "0 -0.076438 -0.084392 -0.083477 -0.103211 -0.218783    0.796767      0  \n",
       "1 -0.076438 -0.084392 -0.083477 -0.103211 -0.218783    0.796767      0  \n",
       "2 -0.076438 -0.084392 -0.083477 -0.103211 -0.218783    0.796767      1  \n",
       "3 -0.076438 -0.084392 -0.083477 -0.103211 -0.218783    0.796767      0  \n",
       "4 -0.076438 -0.084392 -0.083477 -0.103211 -0.218783    0.796767      1  \n",
       "\n",
       "[5 rows x 61 columns]"
      ]
     },
     "execution_count": 9,
     "metadata": {},
     "output_type": "execute_result"
    }
   ],
   "source": [
    "df_all.head()"
   ]
  },
  {
   "cell_type": "code",
   "execution_count": 10,
   "id": "b21d3646",
   "metadata": {},
   "outputs": [],
   "source": [
    "df_all.to_csv(\"genetic_EDA_st.csv\")"
   ]
  },
  {
   "cell_type": "code",
   "execution_count": 11,
   "id": "bd461a85",
   "metadata": {},
   "outputs": [],
   "source": [
    "X_train, X_test, Y_train, Y_test = train_test_split(df_all.drop([\"CLASS\"], axis =1), \n",
    "                                                    df_all.CLASS,\n",
    "                                                   test_size =0.3,\n",
    "                                                   random_state = 41)"
   ]
  },
  {
   "cell_type": "code",
   "execution_count": 12,
   "id": "961ea9df",
   "metadata": {},
   "outputs": [],
   "source": [
    "#X_train, X_test, Y_train, Y_test = train_test_split(df.drop(\"CLASS\", axis =1), \n",
    "#                                                    df.CLASS,\n",
    "#                                                   test_size =0.3,\n",
    "#                                                   random_state = 41)"
   ]
  },
  {
   "cell_type": "code",
   "execution_count": 13,
   "id": "8d2e2b71",
   "metadata": {},
   "outputs": [],
   "source": [
    "logit = LogisticRegression()\n",
    "#logit.fit(X_train, Y_train)\n",
    "#print(\"Training: {:.2f}%\".format(100*logit.score(X_train_d, Y_train_d)))\n",
    "#print(\"Testing: {:.2f}%\".format(100*logit.score(X_test_d, Y_test_d)))"
   ]
  },
  {
   "cell_type": "code",
   "execution_count": 14,
   "id": "8e2dbde1",
   "metadata": {},
   "outputs": [
    {
     "name": "stdout",
     "output_type": "stream",
     "text": [
      "{'C': 100}\n",
      "LogisticRegression(C=100)\n",
      "0.7469812863809111\n"
     ]
    }
   ],
   "source": [
    "# logic\n",
    "C_range = np.arange(100,1000,50)\n",
    "param_grid = dict(C = C_range)\n",
    "gridlogit = GridSearchCV(logit, param_grid, cv=2, scoring='accuracy')\n",
    "gridlogit.fit(X_train, Y_train)\n",
    "\n",
    "print(gridlogit.best_params_)\n",
    "print(gridlogit.best_estimator_)\n",
    "print(gridlogit.best_score_)"
   ]
  },
  {
   "cell_type": "code",
   "execution_count": 15,
   "id": "28d08df4",
   "metadata": {},
   "outputs": [],
   "source": [
    "rf = RandomForestClassifier()\n",
    "knn = KNeighborsClassifier()\n",
    "et = ExtraTreesClassifier()\n",
    "gbm = xgb.XGBClassifier"
   ]
  },
  {
   "cell_type": "code",
   "execution_count": 16,
   "id": "cb30695a",
   "metadata": {},
   "outputs": [
    {
     "name": "stdout",
     "output_type": "stream",
     "text": [
      "{'n_neighbors': 18}\n",
      "KNeighborsClassifier(n_neighbors=18)\n",
      "0.7385625631404242\n"
     ]
    }
   ],
   "source": [
    "# knn\n",
    "#k_range = list(range(1,20))\n",
    "k_range = list(range(18,19))\n",
    "param_grid = dict(n_neighbors = k_range)\n",
    "gridknn = GridSearchCV(knn, param_grid, cv=2, scoring='accuracy')\n",
    "gridknn.fit(X_train, Y_train)\n",
    "\n",
    "print(gridknn.best_params_)\n",
    "print(gridknn.best_estimator_)\n",
    "print(gridknn.best_score_)"
   ]
  },
  {
   "cell_type": "code",
   "execution_count": 17,
   "id": "d08ddf73",
   "metadata": {},
   "outputs": [
    {
     "name": "stdout",
     "output_type": "stream",
     "text": [
      "{'n_estimators': 130}\n",
      "RandomForestClassifier(n_estimators=130)\n",
      "0.714605282147496\n"
     ]
    }
   ],
   "source": [
    "# rf\n",
    "#nest = np.arange(100,300,50)\n",
    "nest = np.arange(120,180,10)\n",
    "param_grid = dict(n_estimators = nest)\n",
    "gridrf = GridSearchCV(rf, param_grid, cv=2, scoring='accuracy')\n",
    "gridrf.fit(X_train, Y_train)\n",
    "print(gridrf.best_params_)\n",
    "print(gridrf.best_estimator_)\n",
    "print(gridrf.best_score_)\n"
   ]
  },
  {
   "cell_type": "code",
   "execution_count": 33,
   "id": "0e720a4c",
   "metadata": {},
   "outputs": [
    {
     "ename": "NameError",
     "evalue": "name 'X_train_d' is not defined",
     "output_type": "error",
     "traceback": [
      "\u001b[0;31m---------------------------------------------------------------------------\u001b[0m",
      "\u001b[0;31mNameError\u001b[0m                                 Traceback (most recent call last)",
      "Input \u001b[0;32mIn [33]\u001b[0m, in \u001b[0;36m<cell line: 6>\u001b[0;34m()\u001b[0m\n\u001b[1;32m      4\u001b[0m param_grid \u001b[38;5;241m=\u001b[39m \u001b[38;5;28mdict\u001b[39m(n_estimators \u001b[38;5;241m=\u001b[39m nest)\n\u001b[1;32m      5\u001b[0m gridex \u001b[38;5;241m=\u001b[39m GridSearchCV(et, param_grid, cv\u001b[38;5;241m=\u001b[39m\u001b[38;5;241m2\u001b[39m, scoring\u001b[38;5;241m=\u001b[39m\u001b[38;5;124m'\u001b[39m\u001b[38;5;124maccuracy\u001b[39m\u001b[38;5;124m'\u001b[39m)\n\u001b[0;32m----> 6\u001b[0m gridex\u001b[38;5;241m.\u001b[39mfit(\u001b[43mX_train_d\u001b[49m, Y_train_d)\n\u001b[1;32m      7\u001b[0m \u001b[38;5;28mprint\u001b[39m(gridex\u001b[38;5;241m.\u001b[39mbest_params_)\n\u001b[1;32m      8\u001b[0m \u001b[38;5;28mprint\u001b[39m(gridex\u001b[38;5;241m.\u001b[39mbest_estimator_)\n",
      "\u001b[0;31mNameError\u001b[0m: name 'X_train_d' is not defined"
     ]
    }
   ],
   "source": [
    "# et\n",
    "#nest = np.arange(1,100,20)\n",
    "#nest = np.arange(50,100,10)\n",
    "param_grid = dict(n_estimators = nest)\n",
    "gridex = GridSearchCV(et, param_grid, cv=2, scoring='accuracy')\n",
    "gridex.fit(X_train, Y_train)\n",
    "print(gridex.best_params_)\n",
    "print(gridex.best_estimator_)\n",
    "print(gridex.best_score_)\n"
   ]
  },
  {
   "cell_type": "code",
   "execution_count": 18,
   "id": "6b2bdcf0",
   "metadata": {},
   "outputs": [],
   "source": [
    "gbm = xgb.XGBClassifier( \n",
    "                        n_estimators=300,\n",
    "                        max_depth=4,\n",
    "                        objective='binary:logistic', #new objective\n",
    "                        learning_rate=.05, \n",
    "                        subsample=.8,\n",
    "                        min_child_weight=3,\n",
    "                        colsample_bytree=.8\n",
    "                       )\n",
    "\n"
   ]
  },
  {
   "cell_type": "code",
   "execution_count": 19,
   "id": "adfd2800",
   "metadata": {},
   "outputs": [
    {
     "name": "stderr",
     "output_type": "stream",
     "text": [
      "/opt/anaconda3/lib/python3.8/site-packages/xgboost/sklearn.py:1224: UserWarning: The use of label encoder in XGBClassifier is deprecated and will be removed in a future release. To remove this warning, do the following: 1) Pass option use_label_encoder=False when constructing XGBClassifier object; and 2) Encode your labels (y) as integers starting with 0, i.e. 0, 1, 2, ..., [num_class - 1].\n",
      "  warnings.warn(label_encoder_deprecation_msg, UserWarning)\n",
      "/opt/anaconda3/lib/python3.8/site-packages/xgboost/data.py:250: FutureWarning: pandas.Int64Index is deprecated and will be removed from pandas in a future version. Use pandas.Index with the appropriate dtype instead.\n",
      "  elif isinstance(data.columns, (pd.Int64Index, pd.RangeIndex)):\n"
     ]
    },
    {
     "name": "stdout",
     "output_type": "stream",
     "text": [
      "[13:22:24] WARNING: ../src/learner.cc:1115: Starting in XGBoost 1.3.0, the default evaluation metric used with the objective 'binary:logistic' was changed from 'error' to 'logloss'. Explicitly set eval_metric if you'd like to restore the old behavior.\n"
     ]
    }
   ],
   "source": [
    "model = gbm.fit(X_train, Y_train)"
   ]
  },
  {
   "cell_type": "code",
   "execution_count": 21,
   "id": "78a3cc41",
   "metadata": {},
   "outputs": [],
   "source": [
    "pickle.dump(model, open('xgb.pickle', 'wb'))\n"
   ]
  },
  {
   "cell_type": "code",
   "execution_count": 20,
   "id": "c1fb5d7c",
   "metadata": {},
   "outputs": [],
   "source": [
    "pickle.dump(gridlogit.best_estimator_, open('logit.pickle', 'wb'))\n",
    "pickle.dump(gridknn.best_estimator_, open('knn.pickle', 'wb'))\n",
    "pickle.dump(gridrf.best_estimator_, open('rf.pickle', 'wb'))"
   ]
  },
  {
   "cell_type": "code",
   "execution_count": 52,
   "id": "2bda4feb",
   "metadata": {},
   "outputs": [
    {
     "data": {
      "text/plain": [
       "Text(0.5, 0, 'Xgboost Feature Importance')"
      ]
     },
     "execution_count": 52,
     "metadata": {},
     "output_type": "execute_result"
    },
    {
     "data": {
      "image/png": "[encoded data removed]",
      "text/plain": [
       "<Figure size 432x288 with 1 Axes>"
      ]
     },
     "metadata": {
      "needs_background": "light"
     },
     "output_type": "display_data"
    }
   ],
   "source": [
    "import matplotlib.pyplot as plt\n",
    "sorted_idx = model.feature_importances_.argsort()[::-1]\n",
    "plt.barh(X_train.columns[sorted_idx][:10], model.feature_importances_[sorted_idx][:10])\n",
    "plt.xlabel(\"Xgboost Feature Importance\")"
   ]
  },
  {
   "cell_type": "code",
   "execution_count": 53,
   "id": "b38c1e59",
   "metadata": {},
   "outputs": [],
   "source": [
    "from sklearn.metrics import confusion_matrix"
   ]
  },
  {
   "cell_type": "code",
   "execution_count": 57,
   "id": "2619acc8",
   "metadata": {},
   "outputs": [
    {
     "data": {
      "image/png": "[encoded data removed]",
      "text/plain": [
       "<Figure size 600x400 with 2 Axes>"
      ]
     },
     "metadata": {
      "needs_background": "light"
     },
     "output_type": "display_data"
    }
   ],
   "source": [
    "xgb_confusion = confusion_matrix(Y_test, gbm.predict(X_test))\n",
    "plt.figure(dpi=100)\n",
    "sns.heatmap(xgb_confusion, cmap=plt.cm.Blues, annot=True, square=True)\n",
    "\n",
    "plt.xlabel('Predicted CLASS')\n",
    "plt.ylabel('Actual CLASS')\n",
    "plt.title('XGB confusion matrix');"
   ]
  },
  {
   "cell_type": "code",
   "execution_count": null,
   "id": "73ef19c1",
   "metadata": {},
   "outputs": [],
   "source": []
  }
 ],
 "metadata": {
  "kernelspec": {
   "display_name": "Python 3 (classification)",
   "language": "python",
   "name": "classification"
  },
  "language_info": {
   "codemirror_mode": {
    "name": "ipython",
    "version": 3
   },
   "file_extension": ".py",
   "mimetype": "text/x-python",
   "name": "python",
   "nbconvert_exporter": "python",
   "pygments_lexer": "ipython3",
   "version": "3.8.5"
  }
 },
 "nbformat": 4,
 "nbformat_minor": 5
}
