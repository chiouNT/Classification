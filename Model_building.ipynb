{
 "cells": [
  {
   "cell_type": "code",
   "execution_count": 48,
   "id": "ca189447",
   "metadata": {},
   "outputs": [],
   "source": [
    "import pandas as pd\n",
    "import seaborn as sns\n",
    "import re\n",
    "import numpy as np\n",
    "\n",
    "from sklearn.model_selection import train_test_split\n",
    "\n",
    "\n",
    "from sklearn.neighbors import KNeighborsClassifier\n",
    "from sklearn.linear_model import LogisticRegression\n",
    "from sklearn.ensemble import RandomForestClassifier, ExtraTreesClassifier, VotingClassifier\n",
    "import xgboost as xgb\n",
    "from sklearn.model_selection import GridSearchCV, RandomizedSearchCV\n",
    "\n",
    "from sklearn.metrics import precision_score, recall_score, precision_recall_curve, f1_score, roc_curve, roc_auc_score, confusion_matrix\n",
    "\n",
    "import pickle\n",
    "\n"
   ]
  },
  {
   "cell_type": "code",
   "execution_count": 49,
   "id": "0e22bd8a",
   "metadata": {},
   "outputs": [],
   "source": [
    "df = pd.read_csv(\"genetic_EDA.csv\")\n",
    "df = df.drop([\"Unnamed: 0\"], axis = 1)"
   ]
  },
  {
   "cell_type": "code",
   "execution_count": 50,
   "id": "941b4f30",
   "metadata": {},
   "outputs": [
    {
     "name": "stdout",
     "output_type": "stream",
     "text": [
      "<class 'pandas.core.frame.DataFrame'>\n",
      "RangeIndex: 59392 entries, 0 to 59391\n",
      "Data columns (total 19 columns):\n",
      " #   Column                   Non-Null Count  Dtype  \n",
      "---  ------                   --------------  -----  \n",
      " 0   CHROM                    59392 non-null  object \n",
      " 1   CLNVC                    59392 non-null  object \n",
      " 2   IMPACT                   59392 non-null  object \n",
      " 3   SYMBOL                   59392 non-null  object \n",
      " 4   AF_ESP                   59392 non-null  float64\n",
      " 5   LoFtool                  59392 non-null  float64\n",
      " 6   CADD_PHRED               59392 non-null  float64\n",
      " 7   CLASS                    59392 non-null  int64  \n",
      " 8   2KB_upstream_variant     59392 non-null  float64\n",
      " 9   3_prime_UTR_variant      59392 non-null  float64\n",
      " 10  500B_downstream_variant  59392 non-null  float64\n",
      " 11  5_prime_UTR_variant      59392 non-null  float64\n",
      " 12  frameshift_variant       59392 non-null  float64\n",
      " 13  intron_variant           59392 non-null  float64\n",
      " 14  missense_variant         59392 non-null  float64\n",
      " 15  nonsense                 59392 non-null  float64\n",
      " 16  splice_acceptor_variant  59392 non-null  float64\n",
      " 17  splice_donor_variant     59392 non-null  float64\n",
      " 18  synonymous_variant       59392 non-null  float64\n",
      "dtypes: float64(14), int64(1), object(4)\n",
      "memory usage: 8.6+ MB\n"
     ]
    }
   ],
   "source": [
    "df.info()"
   ]
  },
  {
   "cell_type": "code",
   "execution_count": 51,
   "id": "1b5fd05e",
   "metadata": {},
   "outputs": [],
   "source": [
    "df_dummies_chrom = pd.get_dummies(df['CHROM'],drop_first=True)\n",
    "df_dummies_clnvc = pd.get_dummies(df['CLNVC'],drop_first=True)\n",
    "df_dummies_impact = pd.get_dummies(df['IMPACT'],drop_first=True)\n",
    "df_dummies_symbol = pd.get_dummies(df['SYMBOL'],drop_first=True)\n",
    "df_temp = df.drop([\"CHROM\", \"CLNVC\", \"IMPACT\", \"SYMBOL\"], axis =1 )"
   ]
  },
  {
   "cell_type": "code",
   "execution_count": 52,
   "id": "1b691009",
   "metadata": {},
   "outputs": [],
   "source": [
    "df_all = pd.concat([df_temp, df_dummies_chrom, df_dummies_clnvc, df_dummies_impact, df_dummies_symbol], axis = 1)"
   ]
  },
  {
   "cell_type": "code",
   "execution_count": 53,
   "id": "361ff694",
   "metadata": {},
   "outputs": [
    {
     "data": {
      "text/plain": [
       "Index(['AF_ESP', 'LoFtool', 'CADD_PHRED', 'CLASS', '2KB_upstream_variant',\n",
       "       '3_prime_UTR_variant', '500B_downstream_variant', '5_prime_UTR_variant',\n",
       "       'frameshift_variant', 'intron_variant', 'missense_variant', 'nonsense',\n",
       "       'splice_acceptor_variant', 'splice_donor_variant', 'synonymous_variant',\n",
       "       'other_chrom', 'Duplication', 'Indel', 'Insertion', 'Inversion',\n",
       "       'Microsatellite', 'single_nucleotide_variant', 'LOW', 'MODERATE',\n",
       "       'MODIFIER', 'ATM', 'BARD1', 'BRCA1', 'BRCA2', 'BRIP1', 'CDH1', 'CHEK2',\n",
       "       'DICER1', 'DMD', 'FBN1', 'LDLR', 'MLH1', 'MSH2', 'MSH6', 'MUTYH',\n",
       "       'MYBPC3', 'MYH7', 'NBN', 'NEB', 'NF1', 'PALB2', 'PLEC', 'PMS2', 'POLD1',\n",
       "       'POLE', 'RAD50', 'RYR1', 'RYR2', 'SCN5A', 'SMARCA4', 'STK11', 'SYNE1',\n",
       "       'TP53', 'TSC2', 'TTN', 'other-gene'],\n",
       "      dtype='object')"
      ]
     },
     "execution_count": 53,
     "metadata": {},
     "output_type": "execute_result"
    }
   ],
   "source": [
    "df_all.columns"
   ]
  },
  {
   "cell_type": "code",
   "execution_count": 54,
   "id": "5dd1687f",
   "metadata": {},
   "outputs": [],
   "source": [
    "from sklearn.preprocessing import StandardScaler\n",
    "std = StandardScaler()\n",
    "df_all_X = df_all.drop([\"CLASS\"], axis =1)\n",
    "std.fit(df_all_X.values)\n",
    "df_all_X_std = std.transform(df_all_X.values)\n",
    "\n",
    "df_all_X_std = pd.DataFrame(df_all_X_std)\n",
    "\n",
    "df_all = pd.concat([df_all_X_std, df_all.CLASS], axis = 1)\n",
    "\n",
    "df_all.columns =['AF_ESP', 'LoFtool', 'CADD_PHRED', '2KB_upstream_variant',\n",
    "       '3_prime_UTR_variant', '500B_downstream_variant', '5_prime_UTR_variant',\n",
    "       'frameshift_variant', 'intron_variant', 'missense_variant', 'nonsense',\n",
    "       'splice_acceptor_variant', 'splice_donor_variant', 'synonymous_variant',\n",
    "       'other_chrom', 'Duplication', 'Indel', 'Insertion', 'Inversion',\n",
    "       'Microsatellite', 'single_nucleotide_variant', 'LOW', 'MODERATE',\n",
    "       'MODIFIER', 'ATM', 'BARD1', 'BRCA1', 'BRCA2', 'BRIP1', 'CDH1', 'CHEK2',\n",
    "       'DICER1', 'DMD', 'FBN1', 'LDLR', 'MLH1', 'MSH2', 'MSH6', 'MUTYH',\n",
    "       'MYBPC3', 'MYH7', 'NBN', 'NEB', 'NF1', 'PALB2', 'PLEC', 'PMS2', 'POLD1',\n",
    "       'POLE', 'RAD50', 'RYR1', 'RYR2', 'SCN5A', 'SMARCA4', 'STK11', 'SYNE1',\n",
    "       'TP53', 'TSC2', 'TTN', 'other-gene', 'CLASS']"
   ]
  },
  {
   "cell_type": "code",
   "execution_count": 55,
   "id": "fbd16b5b",
   "metadata": {},
   "outputs": [
    {
     "name": "stdout",
     "output_type": "stream",
     "text": [
      "<class 'pandas.core.frame.DataFrame'>\n",
      "RangeIndex: 59392 entries, 0 to 59391\n",
      "Data columns (total 61 columns):\n",
      " #   Column                     Non-Null Count  Dtype  \n",
      "---  ------                     --------------  -----  \n",
      " 0   AF_ESP                     59392 non-null  float64\n",
      " 1   LoFtool                    59392 non-null  float64\n",
      " 2   CADD_PHRED                 59392 non-null  float64\n",
      " 3   2KB_upstream_variant       59392 non-null  float64\n",
      " 4   3_prime_UTR_variant        59392 non-null  float64\n",
      " 5   500B_downstream_variant    59392 non-null  float64\n",
      " 6   5_prime_UTR_variant        59392 non-null  float64\n",
      " 7   frameshift_variant         59392 non-null  float64\n",
      " 8   intron_variant             59392 non-null  float64\n",
      " 9   missense_variant           59392 non-null  float64\n",
      " 10  nonsense                   59392 non-null  float64\n",
      " 11  splice_acceptor_variant    59392 non-null  float64\n",
      " 12  splice_donor_variant       59392 non-null  float64\n",
      " 13  synonymous_variant         59392 non-null  float64\n",
      " 14  other_chrom                59392 non-null  float64\n",
      " 15  Duplication                59392 non-null  float64\n",
      " 16  Indel                      59392 non-null  float64\n",
      " 17  Insertion                  59392 non-null  float64\n",
      " 18  Inversion                  59392 non-null  float64\n",
      " 19  Microsatellite             59392 non-null  float64\n",
      " 20  single_nucleotide_variant  59392 non-null  float64\n",
      " 21  LOW                        59392 non-null  float64\n",
      " 22  MODERATE                   59392 non-null  float64\n",
      " 23  MODIFIER                   59392 non-null  float64\n",
      " 24  ATM                        59392 non-null  float64\n",
      " 25  BARD1                      59392 non-null  float64\n",
      " 26  BRCA1                      59392 non-null  float64\n",
      " 27  BRCA2                      59392 non-null  float64\n",
      " 28  BRIP1                      59392 non-null  float64\n",
      " 29  CDH1                       59392 non-null  float64\n",
      " 30  CHEK2                      59392 non-null  float64\n",
      " 31  DICER1                     59392 non-null  float64\n",
      " 32  DMD                        59392 non-null  float64\n",
      " 33  FBN1                       59392 non-null  float64\n",
      " 34  LDLR                       59392 non-null  float64\n",
      " 35  MLH1                       59392 non-null  float64\n",
      " 36  MSH2                       59392 non-null  float64\n",
      " 37  MSH6                       59392 non-null  float64\n",
      " 38  MUTYH                      59392 non-null  float64\n",
      " 39  MYBPC3                     59392 non-null  float64\n",
      " 40  MYH7                       59392 non-null  float64\n",
      " 41  NBN                        59392 non-null  float64\n",
      " 42  NEB                        59392 non-null  float64\n",
      " 43  NF1                        59392 non-null  float64\n",
      " 44  PALB2                      59392 non-null  float64\n",
      " 45  PLEC                       59392 non-null  float64\n",
      " 46  PMS2                       59392 non-null  float64\n",
      " 47  POLD1                      59392 non-null  float64\n",
      " 48  POLE                       59392 non-null  float64\n",
      " 49  RAD50                      59392 non-null  float64\n",
      " 50  RYR1                       59392 non-null  float64\n",
      " 51  RYR2                       59392 non-null  float64\n",
      " 52  SCN5A                      59392 non-null  float64\n",
      " 53  SMARCA4                    59392 non-null  float64\n",
      " 54  STK11                      59392 non-null  float64\n",
      " 55  SYNE1                      59392 non-null  float64\n",
      " 56  TP53                       59392 non-null  float64\n",
      " 57  TSC2                       59392 non-null  float64\n",
      " 58  TTN                        59392 non-null  float64\n",
      " 59  other-gene                 59392 non-null  float64\n",
      " 60  CLASS                      59392 non-null  int64  \n",
      "dtypes: float64(60), int64(1)\n",
      "memory usage: 27.6 MB\n"
     ]
    }
   ],
   "source": [
    "df_all.info()"
   ]
  },
  {
   "cell_type": "code",
   "execution_count": 56,
   "id": "b21d3646",
   "metadata": {},
   "outputs": [],
   "source": [
    "df_all.to_csv(\"genetic_EDA_st.csv\")"
   ]
  },
  {
   "cell_type": "code",
   "execution_count": 57,
   "id": "bd461a85",
   "metadata": {},
   "outputs": [],
   "source": [
    "X_train, X_test, Y_train, Y_test = train_test_split(df_all.drop([\"CLASS\"], axis =1), \n",
    "                                                    df_all.CLASS,\n",
    "                                                   test_size =0.3,\n",
    "                                                   random_state = 41)"
   ]
  },
  {
   "cell_type": "code",
   "execution_count": 58,
   "id": "961ea9df",
   "metadata": {},
   "outputs": [],
   "source": [
    "#X_train, X_test, Y_train, Y_test = train_test_split(df.drop(\"CLASS\", axis =1), \n",
    "#                                                    df.CLASS,\n",
    "#                                                   test_size =0.3,\n",
    "#                                                   random_state = 41)"
   ]
  },
  {
   "cell_type": "code",
   "execution_count": 59,
   "id": "8d2e2b71",
   "metadata": {},
   "outputs": [],
   "source": [
    "logit = LogisticRegression()\n",
    "#logit.fit(X_train, Y_train)\n",
    "#print(\"Training: {:.2f}%\".format(100*logit.score(X_train_d, Y_train_d)))\n",
    "#print(\"Testing: {:.2f}%\".format(100*logit.score(X_test_d, Y_test_d)))"
   ]
  },
  {
   "cell_type": "code",
   "execution_count": 60,
   "id": "8e2dbde1",
   "metadata": {},
   "outputs": [
    {
     "name": "stdout",
     "output_type": "stream",
     "text": [
      "{'C': 100}\n",
      "LogisticRegression(C=100)\n",
      "0.7469331793909655\n"
     ]
    }
   ],
   "source": [
    "# logic\n",
    "C_range = np.arange(100,1000,50)\n",
    "param_grid = dict(C = C_range)\n",
    "gridlogit = GridSearchCV(logit, param_grid, cv=2, scoring='accuracy')\n",
    "gridlogit.fit(X_train, Y_train)\n",
    "\n",
    "print(gridlogit.best_params_)\n",
    "print(gridlogit.best_estimator_)\n",
    "print(gridlogit.best_score_)"
   ]
  },
  {
   "cell_type": "code",
   "execution_count": 63,
   "id": "28d08df4",
   "metadata": {},
   "outputs": [],
   "source": [
    "rf = RandomForestClassifier()\n",
    "knn = KNeighborsClassifier()\n",
    "et = ExtraTreesClassifier()\n",
    "gbm = xgb.XGBClassifier"
   ]
  },
  {
   "cell_type": "code",
   "execution_count": 16,
   "id": "cb30695a",
   "metadata": {},
   "outputs": [
    {
     "name": "stdout",
     "output_type": "stream",
     "text": [
      "{'n_neighbors': 18}\n",
      "KNeighborsClassifier(n_neighbors=18)\n",
      "0.7385625631404242\n"
     ]
    }
   ],
   "source": [
    "# knn\n",
    "#k_range = list(range(1,20))\n",
    "k_range = list(range(18,19))\n",
    "param_grid = dict(n_neighbors = k_range)\n",
    "gridknn = GridSearchCV(knn, param_grid, cv=2, scoring='accuracy')\n",
    "gridknn.fit(X_train, Y_train)\n",
    "\n",
    "print(gridknn.best_params_)\n",
    "print(gridknn.best_estimator_)\n",
    "print(gridknn.best_score_)"
   ]
  },
  {
   "cell_type": "code",
   "execution_count": 17,
   "id": "d08ddf73",
   "metadata": {},
   "outputs": [
    {
     "name": "stdout",
     "output_type": "stream",
     "text": [
      "{'n_estimators': 130}\n",
      "RandomForestClassifier(n_estimators=130)\n",
      "0.714605282147496\n"
     ]
    }
   ],
   "source": [
    "# rf\n",
    "#nest = np.arange(100,300,50)\n",
    "nest = np.arange(120,180,10)\n",
    "param_grid = dict(n_estimators = nest)\n",
    "gridrf = GridSearchCV(rf, param_grid, cv=2, scoring='accuracy')\n",
    "gridrf.fit(X_train, Y_train)\n",
    "print(gridrf.best_params_)\n",
    "print(gridrf.best_estimator_)\n",
    "print(gridrf.best_score_)\n"
   ]
  },
  {
   "cell_type": "code",
   "execution_count": 65,
   "id": "0e720a4c",
   "metadata": {},
   "outputs": [
    {
     "name": "stdout",
     "output_type": "stream",
     "text": [
      "{'n_estimators': 70}\n",
      "ExtraTreesClassifier(n_estimators=70)\n",
      "0.7097705296579593\n"
     ]
    }
   ],
   "source": [
    "# et\n",
    "#nest = np.arange(1,100,20)\n",
    "nest = np.arange(50,100,10)\n",
    "param_grid = dict(n_estimators = nest)\n",
    "gridex = GridSearchCV(et, param_grid, cv=2, scoring='accuracy')\n",
    "gridex.fit(X_train, Y_train)\n",
    "print(gridex.best_params_)\n",
    "print(gridex.best_estimator_)\n",
    "print(gridex.best_score_)\n"
   ]
  },
  {
   "cell_type": "code",
   "execution_count": 18,
   "id": "6b2bdcf0",
   "metadata": {},
   "outputs": [],
   "source": [
    "gbm = xgb.XGBClassifier( \n",
    "                        n_estimators=300,\n",
    "                        max_depth=4,\n",
    "                        objective='binary:logistic', #new objective\n",
    "                        learning_rate=.05, \n",
    "                        subsample=.8,\n",
    "                        min_child_weight=3,\n",
    "                        colsample_bytree=.8\n",
    "                       )\n",
    "\n"
   ]
  },
  {
   "cell_type": "code",
   "execution_count": 19,
   "id": "adfd2800",
   "metadata": {},
   "outputs": [
    {
     "name": "stderr",
     "output_type": "stream",
     "text": [
      "/opt/anaconda3/lib/python3.8/site-packages/xgboost/sklearn.py:1224: UserWarning: The use of label encoder in XGBClassifier is deprecated and will be removed in a future release. To remove this warning, do the following: 1) Pass option use_label_encoder=False when constructing XGBClassifier object; and 2) Encode your labels (y) as integers starting with 0, i.e. 0, 1, 2, ..., [num_class - 1].\n",
      "  warnings.warn(label_encoder_deprecation_msg, UserWarning)\n",
      "/opt/anaconda3/lib/python3.8/site-packages/xgboost/data.py:250: FutureWarning: pandas.Int64Index is deprecated and will be removed from pandas in a future version. Use pandas.Index with the appropriate dtype instead.\n",
      "  elif isinstance(data.columns, (pd.Int64Index, pd.RangeIndex)):\n"
     ]
    },
    {
     "name": "stdout",
     "output_type": "stream",
     "text": [
      "[13:22:24] WARNING: ../src/learner.cc:1115: Starting in XGBoost 1.3.0, the default evaluation metric used with the objective 'binary:logistic' was changed from 'error' to 'logloss'. Explicitly set eval_metric if you'd like to restore the old behavior.\n"
     ]
    }
   ],
   "source": [
    "model = gbm.fit(X_train, Y_train)"
   ]
  },
  {
   "cell_type": "code",
   "execution_count": 21,
   "id": "78a3cc41",
   "metadata": {},
   "outputs": [],
   "source": [
    "pickle.dump(model, open('xgb.pickle', 'wb'))\n"
   ]
  },
  {
   "cell_type": "code",
   "execution_count": 20,
   "id": "c1fb5d7c",
   "metadata": {},
   "outputs": [],
   "source": [
    "pickle.dump(gridlogit.best_estimator_, open('logit.pickle', 'wb'))\n",
    "pickle.dump(gridknn.best_estimator_, open('knn.pickle', 'wb'))\n",
    "pickle.dump(gridrf.best_estimator_, open('rf.pickle', 'wb'))"
   ]
  },
  {
   "cell_type": "code",
   "execution_count": null,
   "id": "73ef19c1",
   "metadata": {},
   "outputs": [],
   "source": []
  }
 ],
 "metadata": {
  "kernelspec": {
   "display_name": "Python 3 (classification)",
   "language": "python",
   "name": "classification"
  },
  "language_info": {
   "codemirror_mode": {
    "name": "ipython",
    "version": 3
   },
   "file_extension": ".py",
   "mimetype": "text/x-python",
   "name": "python",
   "nbconvert_exporter": "python",
   "pygments_lexer": "ipython3",
   "version": "3.8.5"
  }
 },
 "nbformat": 4,
 "nbformat_minor": 5
}
